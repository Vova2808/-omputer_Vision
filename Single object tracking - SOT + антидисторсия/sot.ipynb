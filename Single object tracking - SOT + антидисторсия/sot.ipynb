{
 "cells": [
  {
   "cell_type": "markdown",
   "metadata": {},
   "source": [
    "# SOT"
   ]
  },
  {
   "cell_type": "code",
   "execution_count": 5,
   "metadata": {},
   "outputs": [],
   "source": [
    "import cv2\n",
    "import os\n",
    "\n",
    "tracker = cv2.TrackerMIL_create()  # метод Multiple Instance Learning\n",
    "tracker = cv2.legacy.TrackerMOSSE_create()  # Minimum Output Sum of Squared Error\n",
    "tracker = cv2.TrackerGOTURN_create() # нейросеть (требует веса)"
   ]
  },
  {
   "cell_type": "code",
   "execution_count": null,
   "metadata": {},
   "outputs": [],
   "source": [
    "#pip uninstall opencv-python  \n",
    "#pip install opencv-contrib-python"
   ]
  },
  {
   "cell_type": "markdown",
   "metadata": {},
   "source": [
    "При нажатии на m входим в режим выделения объекта и далее можем выйти из режима по нажатии на q"
   ]
  },
  {
   "cell_type": "code",
   "execution_count": 7,
   "metadata": {},
   "outputs": [],
   "source": [
    "cap = cv2.VideoCapture(0)\n",
    "while True:\n",
    "    timer = cv2.getTickCount()\n",
    "    success, img = cap.read()\n",
    "    cv2.imshow(\"Tracking\", img)\n",
    "    if not success:\n",
    "        break\n",
    "    if cv2.waitKey(1) & 0xff == ord('m'):\n",
    "        break \n",
    "\n",
    "bbox = cv2.selectROI(\"Tracking\", img)\n",
    "tracker.init(img, bbox)\n",
    "  \n",
    "\n",
    "def drawBox():\n",
    "    cv2.rectangle(img, (int(bbox[0]), int(bbox[1])), (int(bbox[0] + bbox[2]), int(bbox[1] + bbox[3])), (255, 0, 0), 3, 1)\n",
    "\n",
    "while True:\n",
    "    timer = cv2.getTickCount()\n",
    "    success, img = cap.read()\n",
    "    success, bbox = tracker.update(img)\n",
    "    if success:\n",
    "        drawBox()\n",
    "    else:\n",
    "        cv2.putText(img, \"Lost\", (75, 75), cv2.FONT_HERSHEY_SIMPLEX, 0.7, (0, 0, 255), 2)\n",
    "    fps = cv2.getTickFrequency() / (cv2.getTickCount() - timer)\n",
    "    cv2.putText(img, str(int(fps)), (75, 50), cv2.FONT_HERSHEY_SIMPLEX, 0.7, (0, 0, 255), 2)\n",
    "    cv2.imshow(\"Tracking\", img)\n",
    "    if cv2.waitKey(1) & 0xff == ord('q'):\n",
    "        break\n",
    "\n",
    "cap.release()\n",
    "cv2.destroyAllWindows()\n"
   ]
  },
  {
   "cell_type": "code",
   "execution_count": 4,
   "metadata": {},
   "outputs": [],
   "source": [
    "cap = cv2.VideoCapture('police.mp4')\n",
    "while True:\n",
    "    timer = cv2.getTickCount()\n",
    "    success, img = cap.read()\n",
    "    cv2.imshow(\"Tracking\", img)\n",
    "    if not success:\n",
    "        break\n",
    "    if cv2.waitKey(50) & 0xff == ord('m'):\n",
    "        break  \n",
    "    \n",
    "bbox = cv2.selectROI(\"Tracking\", img)\n",
    "tracker.init(img, bbox)\n",
    "\n",
    "def drawBox():\n",
    "    cv2.rectangle(img, (int(bbox[0]), int(bbox[1])), (int(bbox[0] + bbox[2]), int(bbox[1] + bbox[3])), (255, 0, 0), 3, 1)\n",
    "\n",
    "while True:\n",
    "    timer = cv2.getTickCount()\n",
    "    success, img = cap.read()\n",
    "    if not success:\n",
    "        break\n",
    "    success, bbox = tracker.update(img)\n",
    "    if success:\n",
    "        drawBox()\n",
    "    else:\n",
    "        cv2.putText(img, \"Lost\", (75, 75), cv2.FONT_HERSHEY_SIMPLEX, 0.7, (0, 0, 255), 2)\n",
    "    fps = cv2.getTickFrequency() / (cv2.getTickCount() - timer)\n",
    "    cv2.putText(img, str(int(fps)), (75, 50), cv2.FONT_HERSHEY_SIMPLEX, 0.7, (0, 0, 255), 2)\n",
    "    cv2.imshow(\"Tracking\", img)\n",
    "    if cv2.waitKey(10) & 0xff == ord('q'):\n",
    "        break\n",
    "\n",
    "cap.release()\n",
    "cv2.destroyAllWindows()"
   ]
  },
  {
   "cell_type": "markdown",
   "metadata": {},
   "source": [
    "---"
   ]
  },
  {
   "cell_type": "markdown",
   "metadata": {},
   "source": [
    "## АНТИДИСТОРСИЯ:"
   ]
  },
  {
   "cell_type": "code",
   "execution_count": 8,
   "metadata": {},
   "outputs": [
    {
     "data": {
      "application/vnd.jupyter.widget-view+json": {
       "model_id": "a4c62f1faba0419ca6135d0bf362d4cc",
       "version_major": 2,
       "version_minor": 0
      },
      "text/plain": [
       "interactive(children=(FloatSlider(value=0.0, description='k1:', max=1e-06, min=-1e-06, step=1e-07), FloatSlide…"
      ]
     },
     "metadata": {},
     "output_type": "display_data"
    }
   ],
   "source": [
    "import cv2\n",
    "import numpy as np\n",
    "import ipywidgets as widgets\n",
    "import matplotlib.pyplot as plt\n",
    "from IPython.display import display\n",
    "\n",
    "def undistort_image(image, k1, k2, fx, fy):\n",
    "    h, w = image.shape[:2]\n",
    "    #fx = fy = 1.0  # фокусное расстояние, можно настроить\n",
    "    cx, cy = w / 2, h / 2  # центр изображения\n",
    "\n",
    "    # Матрица камеры\n",
    "    camera_matrix = np.array([[fx, 0, cx],\n",
    "                              [0, fy, cy],\n",
    "                              [0, 0, 1]])\n",
    "\n",
    "    # Коэффициенты дисторсии\n",
    "    dist_coeffs = np.array([(k1), (k2), 0, 0, 0])\n",
    "\n",
    "    # Используем функцию undistort из OpenCV\n",
    "    undistorted_image = cv2.undistort(image, camera_matrix, dist_coeffs)\n",
    "\n",
    "    return undistorted_image\n",
    "\n",
    "# Создаем интерактивные виджеты для коэффициентов дисторсии\n",
    "k1_slider = widgets.FloatSlider(value=0.0, min=-0.000001, max=0.000001, step=0.0000001, description='k1:')\n",
    "k2_slider = widgets.FloatSlider(value=0.0, min=-0.0000000001, max=0.0000000001, step=0.00000000001, description='k2:')\n",
    "fx_slider = widgets.FloatSlider(value=1.0, min=0, max=5, step=0.01, description='fx:')\n",
    "fy_slider = widgets.FloatSlider(value=1.0, min=0, max=5, step=0.01, description='fy:')\n",
    "\n",
    "# Создаем функцию-обработчик изменений слайдеров\n",
    "def update_image(k1, k2, fx, fy):\n",
    "    undistorted = undistort_image(original_image, k1, k2, fx, fy)\n",
    "    undistorted = cv2.cvtColor(undistorted, cv2.COLOR_BGR2RGB) \n",
    "    plt.imshow(undistorted)\n",
    "\n",
    "# Загружаем изображение\n",
    "original_image = cv2.imread('test.jpg')\n",
    "\n",
    "# Создаем интерактивные виджеты\n",
    "interactive_widgets = widgets.interactive(update_image, k1=k1_slider, k2=k2_slider, fx=fx_slider, fy=fy_slider)\n",
    "\n",
    "# Отображаем изображение и виджеты\n",
    "display(interactive_widgets)\n"
   ]
  }
 ],
 "metadata": {
  "kernelspec": {
   "display_name": "WORK",
   "language": "python",
   "name": "python3"
  },
  "language_info": {
   "codemirror_mode": {
    "name": "ipython",
    "version": 3
   },
   "file_extension": ".py",
   "mimetype": "text/x-python",
   "name": "python",
   "nbconvert_exporter": "python",
   "pygments_lexer": "ipython3",
   "version": "3.10.13"
  }
 },
 "nbformat": 4,
 "nbformat_minor": 2
}
